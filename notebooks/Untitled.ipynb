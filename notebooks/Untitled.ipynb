{
 "cells": [
  {
   "cell_type": "markdown",
   "id": "cf5ebfde",
   "metadata": {},
   "source": [
    "# Analyse des données relative à Netflix"
   ]
  },
  {
   "cell_type": "markdown",
   "id": "de40d126",
   "metadata": {},
   "source": [
    "![image_netflix](https://www.monpetitforfait.com/comparateur-box-internet/wp-content/uploads/2020/02/G-gerer_lutilisation_des_donnees_mobiles_nteflix.png)"
   ]
  },
  {
   "cell_type": "markdown",
   "id": "3a13f9e5",
   "metadata": {},
   "source": [
    "# Tâche 1"
   ]
  },
  {
   "cell_type": "markdown",
   "id": "9e3a15c9",
   "metadata": {},
   "source": [
    "Écrire un programme qui fusionne les fichiers csv (dossier src/data)"
   ]
  },
  {
   "cell_type": "markdown",
   "id": "b37cae81",
   "metadata": {},
   "source": [
    "Nous avons opté pour l'écriture d'un script bash, language permettant une manipulation simplifié des fichiers au sein de windows."
   ]
  },
  {
   "cell_type": "markdown",
   "id": "7064c867",
   "metadata": {},
   "source": [
    "```bash\n",
    "@echo off\n",
    "chcp 28591 > nul\n",
    "set /p VAR=Entrez Le répertoire de travail : \n",
    "cd %VAR%\\data\\raw\n",
    "echo Les fichiers CSV présents dans ce répertoire vont être fusionnés\n",
    "pause\n",
    "copy *.csv netflix.csv\n",
    "echo Et déplacés vers le dossier de destination\n",
    "pause\n",
    "move %VAR%\\data\\raw\\netflix.csv %VAR%\\data\\processed\n",
    "```"
   ]
  },
  {
   "cell_type": "raw",
   "id": "ed2865d5",
   "metadata": {},
   "source": [
    "Dans ce code : \"@echo off\" permet d'affcicher le programme dans un terminal(interface graphique)\n",
    "               \"cd\" permet de se situer dans un répertoire.\n",
    "               \"chcp 28591 > nul\" permet d'afficher des accents dans le terminal.\n",
    "               \"set /p Var=[texte_affiché]\" permet d'afficher du texte en attente d'une réponse qui écrasera la variable.\n",
    "               \"pause\" met en attente le script jusqu'à ce que l'utilisateur presse une touche.\n",
    "               \"copy\" permet de copier les fichiers selectionnés, ici \"*.csv\", * indique un nom dynamique et .csv                           séléctionne tout les fichiers CSV, vers un fichier, nommé ici \"netflix.csv\".\n",
    "               \"move [dossier1+fichier] [dossier2]\" permet de déplacer un fichier d'un dossier à un autre."
   ]
  },
  {
   "cell_type": "markdown",
   "id": "92494a2f",
   "metadata": {},
   "source": [
    "# Tâche 2"
   ]
  },
  {
   "cell_type": "markdown",
   "id": "78c21d1a",
   "metadata": {},
   "source": [
    "Établir pour chaque variable le nombre de valeurs manquantes et aberrante ainsi que le pourcentage que cela représente."
   ]
  },
  {
   "cell_type": "markdown",
   "id": "3c76a6a1",
   "metadata": {},
   "source": [
    "# Tâche 3"
   ]
  },
  {
   "cell_type": "markdown",
   "id": "b1a136ec",
   "metadata": {},
   "source": [
    "Établir le nombre et le pourcentage d'observations qui ont des valeurs aberrantes et/ou manquantes."
   ]
  },
  {
   "cell_type": "markdown",
   "id": "3f364ee4",
   "metadata": {},
   "source": [
    "# Tâche 4"
   ]
  },
  {
   "cell_type": "markdown",
   "id": "3f8c2c14",
   "metadata": {},
   "source": [
    "Calculer (src/model/model.py) combien de films proviennent de france."
   ]
  },
  {
   "cell_type": "markdown",
   "id": "b20635ef",
   "metadata": {},
   "source": [
    "# Tâche 5"
   ]
  },
  {
   "cell_type": "markdown",
   "id": "259e1417",
   "metadata": {},
   "source": [
    "Définir les fonctions ComputeMean et ComputeMedian et calculer (src/model/model.py) le temps médian et moyen des films et des séries afin de les comparer."
   ]
  },
  {
   "cell_type": "markdown",
   "id": "9eb2330e",
   "metadata": {},
   "source": [
    "# Tâche 6"
   ]
  },
  {
   "cell_type": "markdown",
   "id": "15f91819",
   "metadata": {},
   "source": [
    "Afficher la courbe qui montre la relation entre la durée des séries et leur date de diffusion."
   ]
  }
 ],
 "metadata": {
  "kernelspec": {
   "display_name": "Python 3 (ipykernel)",
   "language": "python",
   "name": "python3"
  },
  "language_info": {
   "codemirror_mode": {
    "name": "ipython",
    "version": 3
   },
   "file_extension": ".py",
   "mimetype": "text/x-python",
   "name": "python",
   "nbconvert_exporter": "python",
   "pygments_lexer": "ipython3",
   "version": "3.9.5"
  }
 },
 "nbformat": 4,
 "nbformat_minor": 5
}
